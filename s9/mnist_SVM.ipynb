{
  "cells": [
    {
      "cell_type": "code",
      "execution_count": 1,
      "metadata": {
        "colab": {
          "base_uri": "https://localhost:8080/"
        },
        "id": "KzKEILUSAQ-A",
        "outputId": "d39c7a17-7c5d-4efa-c546-085b74c2360d"
      },
      "outputs": [
        {
          "name": "stdout",
          "output_type": "stream",
          "text": [
            "Load Libraries ... Done\n"
          ]
        }
      ],
      "source": [
        "print(\"Load Libraries ... \",end=\"\")\n",
        "\n",
        "import cv2\n",
        "import pickle\n",
        "import numpy as np\n",
        "from sklearn.svm import SVC\n",
        "import matplotlib.pyplot as plt\n",
        "from sklearn.datasets import load_digits\n",
        "from sklearn.model_selection import train_test_split\n",
        "\n",
        "print(\"Done\")"
      ]
    },
    {
      "cell_type": "code",
      "execution_count": 2,
      "metadata": {
        "colab": {
          "base_uri": "https://localhost:8080/"
        },
        "id": "anzgvAAvAUAD",
        "outputId": "c51ddaae-c695-4b3e-c1bd-3ae2698d57e7"
      },
      "outputs": [
        {
          "name": "stdout",
          "output_type": "stream",
          "text": [
            "Load Dataset ... Done\n",
            "(1437, 64)\n",
            "(1437,)\n",
            "(360, 64)\n",
            "(360,)\n"
          ]
        }
      ],
      "source": [
        "print(\"Load Dataset ... \",end=\"\")\n",
        "\n",
        "data = np.load(\"mnist.npz\")\n",
        "\n",
        "x_train = data['train']\n",
        "y_train = np.ravel(data['train_labels'])\n",
        "x_test = data['test']\n",
        "y_test = np.ravel(data['test_labels'])\n",
        "\n",
        "print(\"Done\")\n",
        "\n",
        "print(x_train.shape)\n",
        "print(y_train.shape)"
      ]
    },
    {
      "cell_type": "code",
      "execution_count": 3,
      "metadata": {
        "colab": {
          "base_uri": "https://localhost:8080/"
        },
        "id": "QJA6BevbAUej",
        "outputId": "5bb4c0ad-61a1-45fc-b444-034dd9408401"
      },
      "outputs": [
        {
          "name": "stdout",
          "output_type": "stream",
          "text": [
            "Normalize Dataset ... Done\n"
          ]
        }
      ],
      "source": [
        "print(\"Normalize Dataset ... \", end=\"\")\n",
        "\n",
        "x_train = np.array([np.ravel(x) for x in x_train])\n",
        "x_test = np.array([np.ravel(x) for x in x_test])\n",
        "\n",
        "print(\"Done\")"
      ]
    },
    {
      "cell_type": "code",
      "execution_count": 4,
      "metadata": {
        "colab": {
          "base_uri": "https://localhost:8080/"
        },
        "id": "xIgULyq7AVeC",
        "outputId": "ea9479de-fd56-4160-f571-972f94bc7116"
      },
      "outputs": [
        {
          "name": "stdout",
          "output_type": "stream",
          "text": [
            "Train Model ... Done\n"
          ]
        }
      ],
      "source": [
        "print(\"Train Model ... \", end=\"\")\n",
        "model = SVC(gamma=0.001)\n",
        "model.fit(x_train, y_train)\n",
        "print(\"Done\")"
      ]
    },
    {
      "cell_type": "code",
      "execution_count": null,
      "metadata": {
        "id": "yUnY5PmnAYtC"
      },
      "outputs": [],
      "source": [
        "print(\"Score ...\")\n",
        "print(\"Score: \", model.score(x_test, y_test) * 100)\n",
        "print(\"Done\")"
      ]
    },
    {
      "cell_type": "code",
      "execution_count": 7,
      "metadata": {
        "id": "Yf6OAbpHAamA"
      },
      "outputs": [
        {
          "name": "stdout",
          "output_type": "stream",
          "text": [
            "Predict ... \n",
            "Predict =  [1]\n",
            "Done\n"
          ]
        }
      ],
      "source": [
        "print(\"Predict ... \")\n",
        "img = cv2.imread(\"4.png\", 0)\n",
        "img = np.ravel(img).reshape(1,-1)\n",
        "print(\"Predict = \" ,model.predict(img))\n",
        "print(\"Done\")"
      ]
    },
    {
      "cell_type": "code",
      "execution_count": null,
      "metadata": {},
      "outputs": [],
      "source": [
        "print(\"Saving Model...\")\n",
        "with open('model.dat', 'wb') as files:\n",
        "    pickle.dump(model, files)\n",
        "print(\"Done\")"
      ]
    }
  ],
  "metadata": {
    "accelerator": "GPU",
    "colab": {
      "gpuType": "T4",
      "provenance": []
    },
    "kernelspec": {
      "display_name": "Python 3",
      "name": "python3"
    },
    "language_info": {
      "codemirror_mode": {
        "name": "ipython",
        "version": 3
      },
      "file_extension": ".py",
      "mimetype": "text/x-python",
      "name": "python",
      "nbconvert_exporter": "python",
      "pygments_lexer": "ipython3",
      "version": "3.10.12"
    }
  },
  "nbformat": 4,
  "nbformat_minor": 0
}
