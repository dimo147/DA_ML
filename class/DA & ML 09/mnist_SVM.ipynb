{
  "nbformat": 4,
  "nbformat_minor": 0,
  "metadata": {
    "colab": {
      "provenance": [],
      "gpuType": "T4"
    },
    "kernelspec": {
      "name": "python3",
      "display_name": "Python 3"
    },
    "language_info": {
      "name": "python"
    },
    "accelerator": "GPU"
  },
  "cells": [
    {
      "cell_type": "code",
      "execution_count": 1,
      "metadata": {
        "colab": {
          "base_uri": "https://localhost:8080/"
        },
        "id": "KzKEILUSAQ-A",
        "outputId": "d39c7a17-7c5d-4efa-c546-085b74c2360d"
      },
      "outputs": [
        {
          "output_type": "stream",
          "name": "stdout",
          "text": [
            "Load Libraries ... Done\n"
          ]
        }
      ],
      "source": [
        "print(\"Load Libraries ... \",end=\"\")\n",
        "import cv2\n",
        "import numpy as np\n",
        "from sklearn.svm import SVC\n",
        "print(\"Done\")"
      ]
    },
    {
      "cell_type": "code",
      "source": [
        "print(\"Load Dataset ... \",end=\"\")\n",
        "\n",
        "from keras.datasets import mnist\n",
        "\n",
        "(x_train,y_train),(x_test,y_test) = mnist.load_data()\n",
        "print(\"Done\")\n",
        "\n",
        "print(x_train.shape)\n",
        "print(y_train.shape)\n"
      ],
      "metadata": {
        "colab": {
          "base_uri": "https://localhost:8080/"
        },
        "id": "anzgvAAvAUAD",
        "outputId": "c51ddaae-c695-4b3e-c1bd-3ae2698d57e7"
      },
      "execution_count": 2,
      "outputs": [
        {
          "output_type": "stream",
          "name": "stdout",
          "text": [
            "Load Dataset ... Downloading data from https://storage.googleapis.com/tensorflow/tf-keras-datasets/mnist.npz\n",
            "11490434/11490434 [==============================] - 0s 0us/step\n",
            "Done\n",
            "(60000, 28, 28)\n",
            "(60000,)\n"
          ]
        }
      ]
    },
    {
      "cell_type": "code",
      "source": [
        "print(\"Normalize Dataset ... \", end=\"\")\n",
        "x_train = np.array([np.ravel(x) for x in x_train])\n",
        "x_test = np.array([np.ravel(x) for x in x_test])\n",
        "print(\"Done\")"
      ],
      "metadata": {
        "colab": {
          "base_uri": "https://localhost:8080/"
        },
        "id": "QJA6BevbAUej",
        "outputId": "5bb4c0ad-61a1-45fc-b444-034dd9408401"
      },
      "execution_count": 3,
      "outputs": [
        {
          "output_type": "stream",
          "name": "stdout",
          "text": [
            "Normalize Dataset ... Done\n"
          ]
        }
      ]
    },
    {
      "cell_type": "code",
      "source": [
        "print(\"Train Model ... \", end=\"\")\n",
        "model = SVC()\n",
        "model.fit(x_train, y_train)\n",
        "print(\"Done\")"
      ],
      "metadata": {
        "colab": {
          "base_uri": "https://localhost:8080/"
        },
        "id": "xIgULyq7AVeC",
        "outputId": "ea9479de-fd56-4160-f571-972f94bc7116"
      },
      "execution_count": null,
      "outputs": [
        {
          "output_type": "stream",
          "name": "stdout",
          "text": [
            "Train Model ... "
          ]
        }
      ]
    },
    {
      "cell_type": "code",
      "source": [
        "print(\"Score ...\")\n",
        "print(\"Done\")\n",
        "print(model.score(x_test, y_test) * 100)"
      ],
      "metadata": {
        "id": "yUnY5PmnAYtC"
      },
      "execution_count": null,
      "outputs": []
    },
    {
      "cell_type": "code",
      "source": [
        "print(\"Predict ... \",end=\"\")\n",
        "img = cv2.imread(\"1.png\", 0)\n",
        "img = np.ravel(img).reshape(1,-1)\n",
        "print(\"Done\")\n",
        "\n",
        "print(\"Predict = \" ,model.predict(img))"
      ],
      "metadata": {
        "id": "Yf6OAbpHAamA"
      },
      "execution_count": null,
      "outputs": []
    }
  ]
}